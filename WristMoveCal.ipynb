{
  "nbformat": 4,
  "nbformat_minor": 0,
  "metadata": {
    "colab": {
      "provenance": [],
      "mount_file_id": "1yruODR3-kDsh55lZq9W10Xqi2E7AXhy7",
      "authorship_tag": "ABX9TyPXx3f6Pm6kJKgxG/CaLi7k",
      "include_colab_link": true
    },
    "kernelspec": {
      "name": "python3",
      "display_name": "Python 3"
    },
    "language_info": {
      "name": "python"
    }
  },
  "cells": [
    {
      "cell_type": "markdown",
      "metadata": {
        "id": "view-in-github",
        "colab_type": "text"
      },
      "source": [
        "<a href=\"https://colab.research.google.com/github/NinaAbeyratne/Wrist_Movement_Calculator/blob/main/WristMoveCal.ipynb\" target=\"_parent\"><img src=\"https://colab.research.google.com/assets/colab-badge.svg\" alt=\"Open In Colab\"/></a>"
      ]
    },
    {
      "cell_type": "markdown",
      "source": [
        "# First I thought it was to get the data from a sensor or something and save it. Below is the code for that."
      ],
      "metadata": {
        "id": "L5izLhy1UutU"
      }
    },
    {
      "cell_type": "code",
      "execution_count": 3,
      "metadata": {
        "colab": {
          "base_uri": "https://localhost:8080/"
        },
        "id": "JrjMif7XFCcM",
        "outputId": "25228a3d-2009-453d-fba8-61b1dcb42d6a"
      },
      "outputs": [
        {
          "output_type": "stream",
          "name": "stdout",
          "text": [
            "Drive already mounted at /content/drive; to attempt to forcibly remount, call drive.mount(\"/content/drive\", force_remount=True).\n",
            "Dummy data saved to '/content/drive/My Drive/dummy_motion_capture_data.csv'\n"
          ]
        }
      ],
      "source": [
        "import pandas as pd\n",
        "import os\n",
        "from google.colab import drive\n",
        "drive.mount('/content/drive')\n",
        "\n",
        "data = {\n",
        "    'time': [0, 0.1, 0.2, 0.3, 0.4, 0.5, 0.6, 0.7, 0.8, 0.9, 1.0],\n",
        "    'marker_x': [0, 0.1, 0.2, 0.3, 0.4, 0.5, 0.6, 0.7, 0.8, 0.9, 1.0],\n",
        "    'marker_y': [0, 0.2, 0.4, 0.6, 0.8, 1.0, 1.2, 1.4, 1.6, 1.8, 2.0],\n",
        "    'marker_z': [0, 0.3, 0.6, 0.9, 1.2, 1.5, 1.8, 2.1, 2.4, 2.7, 3.0]\n",
        "}\n",
        "\n",
        "df = pd.DataFrame(data)\n",
        "\n",
        "save_directory = '/content/drive/My Drive'\n",
        "\n",
        "# Make sure the directory exists\n",
        "os.makedirs(save_directory, exist_ok=True)\n",
        "\n",
        "save_path = os.path.join(save_directory, 'dummy_motion_capture_data.csv')\n",
        "df.to_csv(save_path, index=False)\n",
        "\n",
        "print(f\"Dummy data saved to '{save_path}'\")\n"
      ]
    },
    {
      "cell_type": "code",
      "source": [
        "\n",
        "data_file = '/content/drive/My Drive/dummy_motion_capture_data.csv'\n",
        "\n",
        "data = pd.read_csv(data_file)\n",
        "\n",
        "print(\"Initial Data:\")\n",
        "print(data.head())\n",
        "\n"
      ],
      "metadata": {
        "colab": {
          "base_uri": "https://localhost:8080/"
        },
        "id": "h_ZIBmw1HXbw",
        "outputId": "3e8d6828-4744-4439-bc88-71abced4b69e"
      },
      "execution_count": 4,
      "outputs": [
        {
          "output_type": "stream",
          "name": "stdout",
          "text": [
            "Initial Data:\n",
            "   time  marker_x  marker_y  marker_z\n",
            "0   0.0       0.0       0.0       0.0\n",
            "1   0.1       0.1       0.2       0.3\n",
            "2   0.2       0.2       0.4       0.6\n",
            "3   0.3       0.3       0.6       0.9\n",
            "4   0.4       0.4       0.8       1.2\n"
          ]
        }
      ]
    },
    {
      "cell_type": "code",
      "source": [
        "data.columns = ['time', 'marker_x', 'marker_y', 'marker_z']\n",
        "\n",
        "print(\"Processed Data:\")\n",
        "print(data)\n",
        "\n",
        "output_file = 'processed_wrist_data.csv'\n",
        "data.to_csv(output_file, index=False)\n",
        "\n",
        "print(f\"Processed data saved to {output_file}\")"
      ],
      "metadata": {
        "id": "v5B5qbppIHI2"
      },
      "execution_count": null,
      "outputs": []
    },
    {
      "cell_type": "code",
      "source": [],
      "metadata": {
        "id": "rexB5zrhIHLK"
      },
      "execution_count": null,
      "outputs": []
    },
    {
      "cell_type": "markdown",
      "source": [
        "## Here what i have done is i got marker 1 and marker 2 parameters and their data points from x y z planes.\n",
        "\n",
        "Then i'm counting euclidian distance and throught that the displacement of the data points in each marker.\n",
        "\n",
        "In the end i'm calculating the velocity in each marker. I understood that there are multiple things we can calculate through these data points.\n",
        "\n",
        "## Please note that i used dummy data and those are not exactly in the format of real world data in this particular senario.\n"
      ],
      "metadata": {
        "id": "eMkLU0cXVVMd"
      }
    },
    {
      "cell_type": "code",
      "source": [
        "import pandas as pd\n",
        "import numpy as np\n",
        "\n",
        "# Define the time intervals\n",
        "time_intervals = [0, 0.1, 0.2, 0.3, 0.4, 0.5, 0.6, 0.7, 0.8, 0.9, 1.0]\n",
        "\n",
        "# Define dummy data for two markers\n",
        "dummy_data = {\n",
        "    'time': time_intervals,\n",
        "    'marker1_x': [0, 0.1, 0.2, 0.3, 0.4, 0.5, 0.6, 0.7, 0.8, 0.9, 1.0],\n",
        "    'marker1_y': [0, 0.2, 0.4, 0.6, 0.8, 1.0, 1.2, 1.4, 1.6, 1.8, 2.0],\n",
        "    'marker1_z': [0, 0.1, 0.2, 0.3, 0.4, 0.5, 0.6, 0.7, 0.8, 0.9, 1.0],\n",
        "    'marker2_x': [0, 0.2, 0.4, 0.6, 0.8, 1.0, 1.2, 1.4, 1.6, 1.8, 2.0],\n",
        "    'marker2_y': [0, 0.3, 0.6, 0.9, 1.2, 1.5, 1.8, 2.1, 2.4, 2.7, 3.0],\n",
        "    'marker2_z': [0, 0.2, 0.4, 0.6, 0.8, 1.0, 1.2, 1.4, 1.6, 1.8, 2.0]\n",
        "}\n",
        "\n",
        "# Create a DataFrame from the dummy data\n",
        "df = pd.DataFrame(dummy_data)\n",
        "\n",
        "# Calculate time interval\n",
        "time_interval = df['time'].diff().fillna(0)\n",
        "\n",
        "# displacement for each marker\n",
        "df['marker1_displacement'] = np.sqrt(\n",
        "    (df['marker1_x'].diff().fillna(0))**2 +\n",
        "    (df['marker1_y'].diff().fillna(0))**2 +\n",
        "    (df['marker1_z'].diff().fillna(0))**2\n",
        ")\n",
        "\n",
        "df['marker2_displacement'] = np.sqrt(\n",
        "    (df['marker2_x'].diff().fillna(0))**2 +\n",
        "    (df['marker2_y'].diff().fillna(0))**2 +\n",
        "    (df['marker2_z'].diff().fillna(0))**2\n",
        ")\n",
        "\n",
        "# Calculate velocity (speed)\n",
        "df['marker1_velocity'] = df['marker1_displacement'] / time_interval\n",
        "df['marker2_velocity'] = df['marker2_displacement'] / time_interval\n",
        "\n",
        "print(df[['time', 'marker1_velocity', 'marker2_velocity']])\n"
      ],
      "metadata": {
        "colab": {
          "base_uri": "https://localhost:8080/"
        },
        "id": "nTdmRo6sIHNw",
        "outputId": "8c6a6555-81bd-40a4-98e7-dce50171fa05"
      },
      "execution_count": 5,
      "outputs": [
        {
          "output_type": "stream",
          "name": "stdout",
          "text": [
            "    time  marker1_velocity  marker2_velocity\n",
            "0    0.0               NaN               NaN\n",
            "1    0.1           2.44949          4.123106\n",
            "2    0.2           2.44949          4.123106\n",
            "3    0.3           2.44949          4.123106\n",
            "4    0.4           2.44949          4.123106\n",
            "5    0.5           2.44949          4.123106\n",
            "6    0.6           2.44949          4.123106\n",
            "7    0.7           2.44949          4.123106\n",
            "8    0.8           2.44949          4.123106\n",
            "9    0.9           2.44949          4.123106\n",
            "10   1.0           2.44949          4.123106\n"
          ]
        }
      ]
    },
    {
      "cell_type": "markdown",
      "source": [
        "# Below is my try to calculate the angular velocity but that one i'm not sure about the equation."
      ],
      "metadata": {
        "id": "FxLxGStNWnQe"
      }
    },
    {
      "cell_type": "code",
      "source": [
        "\n",
        "\n",
        "# Define the time intervals\n",
        "time_intervals = [0, 0.1, 0.2, 0.3, 0.4, 0.5, 0.6, 0.7, 0.8, 0.9, 1.0]\n",
        "\n",
        "# Define dummy data for two markers\n",
        "dummy_data = {\n",
        "    'time': time_intervals,\n",
        "    'marker1_x': [0, 0.1, 0.2, 0.3, 0.4, 0.5, 0.6, 0.7, 0.8, 0.9, 1.0],\n",
        "    'marker1_y': [0, 0.2, 0.4, 0.6, 0.8, 1.0, 1.2, 1.4, 1.6, 1.8, 2.0],\n",
        "    'marker1_z': [0, 0.1, 0.2, 0.3, 0.4, 0.5, 0.6, 0.7, 0.8, 0.9, 1.0],\n",
        "    'marker2_x': [0, 0.2, 0.4, 0.6, 0.8, 1.0, 1.2, 1.4, 1.6, 1.8, 2.0],\n",
        "    'marker2_y': [0, 0.3, 0.6, 0.9, 1.2, 1.5, 1.8, 2.1, 2.4, 2.7, 3.0],\n",
        "    'marker2_z': [0, 0.2, 0.4, 0.6, 0.8, 1.0, 1.2, 1.4, 1.6, 1.8, 2.0]\n",
        "}\n",
        "\n",
        "df = pd.DataFrame(dummy_data)\n",
        "\n",
        "# Calculate time interval (assuming time steps are constant)\n",
        "time_interval = df['time'].diff().fillna(0)\n",
        "\n",
        "# Calculate displacement for each marker\n",
        "df['marker1_displacement'] = np.sqrt(\n",
        "    (df['marker1_x'].diff().fillna(0))**2 +\n",
        "    (df['marker1_y'].diff().fillna(0))**2 +\n",
        "    (df['marker1_z'].diff().fillna(0))**2\n",
        ")\n",
        "\n",
        "df['marker2_displacement'] = np.sqrt(\n",
        "    (df['marker2_x'].diff().fillna(0))**2 +\n",
        "    (df['marker2_y'].diff().fillna(0))**2 +\n",
        "    (df['marker2_z'].diff().fillna(0))**2\n",
        ")\n",
        "\n",
        "# Calculate velocity (speed)\n",
        "df['marker1_velocity'] = df['marker1_displacement'] / time_interval\n",
        "df['marker2_velocity'] = df['marker2_displacement'] / time_interval\n",
        "\n",
        "# Calculate angular velocity for wrist rotation\n",
        "# Assuming markers are placed for radial and ulnar deviation\n",
        "df['wrist_angular_velocity'] = (df['marker1_velocity'] - df['marker2_velocity']) / time_interval\n",
        "\n",
        "# Display the result\n",
        "print(df[['time', 'marker1_velocity', 'marker2_velocity', 'wrist_angular_velocity']])\n"
      ],
      "metadata": {
        "colab": {
          "base_uri": "https://localhost:8080/"
        },
        "id": "btXz8DaWIHQF",
        "outputId": "b2ab5cb2-4c13-490e-c7b9-fd8f2003af0b"
      },
      "execution_count": 7,
      "outputs": [
        {
          "output_type": "stream",
          "name": "stdout",
          "text": [
            "    time  marker1_velocity  marker2_velocity  wrist_angular_velocity\n",
            "0    0.0               NaN               NaN                     NaN\n",
            "1    0.1           2.44949          4.123106              -16.736159\n",
            "2    0.2           2.44949          4.123106              -16.736159\n",
            "3    0.3           2.44949          4.123106              -16.736159\n",
            "4    0.4           2.44949          4.123106              -16.736159\n",
            "5    0.5           2.44949          4.123106              -16.736159\n",
            "6    0.6           2.44949          4.123106              -16.736159\n",
            "7    0.7           2.44949          4.123106              -16.736159\n",
            "8    0.8           2.44949          4.123106              -16.736159\n",
            "9    0.9           2.44949          4.123106              -16.736159\n",
            "10   1.0           2.44949          4.123106              -16.736159\n"
          ]
        }
      ]
    },
    {
      "cell_type": "code",
      "source": [],
      "metadata": {
        "id": "cWUlmTPXPcXy"
      },
      "execution_count": null,
      "outputs": []
    }
  ]
}